{
 "metadata": {
  "name": "",
  "signature": "sha256:0fc19c967e6a753fa9e2c842aea0af5180095fc46b88f6170bf620ca08d3a740"
 },
 "nbformat": 3,
 "nbformat_minor": 0,
 "worksheets": [
  {
   "cells": [
    {
     "cell_type": "code",
     "collapsed": false,
     "input": [
      "### Statsmodels, because we love statsmodels,\n",
      "### and because logistic regressions are still common for data exploration:from sklearn import datasets.\n",
      "### Since logistic is used to solve binomial problems, our targets should be 0 and 1.\n",
      "### by default, fit_regularized uses L1 Regularization\n",
      "from sklearn import datasets\n",
      "import numpy as np\n",
      "import pandas as pd\n",
      "import statsmodels.formula.api as smf\n",
      "iris = datasets.load_iris()\n",
      "irisdf = pd.DataFrame(iris.data, columns=['sep_len', 'sep_wid', 'pet_len', 'pet_wid'])\n",
      "irisdf['target'] = iris.target\n",
      "irisdf = irisdf.query('target in (1, 2)')\n",
      "irisdf['target'] = irisdf['target'] - 1\n"
     ],
     "language": "python",
     "metadata": {},
     "outputs": [],
     "prompt_number": 3
    },
    {
     "cell_type": "code",
     "collapsed": false,
     "input": [
      "\n",
      "lmf = smf.logit('target ~ sep_wid + pet_wid', irisdf)\n",
      "# setting alpha to 0 effectively removes the hyperparameter\n",
      "results = lmf.fit_regularized(alpha=0)\n",
      "print results.summary()\n",
      "print np.exp(results.params)\n",
      "\n",
      "# sklearn implementation\n",
      "# note that by default, LogisticRegression() uses L2 Regularization.\n",
      "# C, in this case, is the alpha parameter\n",
      "# we can't remove it (it's a fickle sklearn library issue), but we can make is huge so it as less of an effect.\n",
      "clf = lm.LogisticRegression(C=1e100).fit(irisdf[['sep_wid', 'pet_wid']], irisdf['target'])\n",
      "print clf.coef_\n",
      "print np.exp(clf.coef_)\n",
      "# same model, different regularization method\n",
      "clf2 = lm.LogisticRegression(penalty='l1', C=1e100).fit(irisdf[['sep_wid', 'pet_wid']], irisdf['target'])\n",
      "print clf2.coef_\n",
      "print np.exp(clf2.coef_)"
     ],
     "language": "python",
     "metadata": {},
     "outputs": []
    }
   ],
   "metadata": {}
  }
 ]
}