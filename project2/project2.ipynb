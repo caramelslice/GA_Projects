{
 "metadata": {
  "name": "",
  "signature": "sha256:26fcc2a098bb82716b68dab58a0bfb9e15569ff89f0e438ba096e4f089222633"
 },
 "nbformat": 3,
 "nbformat_minor": 0,
 "worksheets": [
  {
   "cells": [
    {
     "cell_type": "markdown",
     "metadata": {},
     "source": [
      "# Project 3\n",
      "\n",
      "Author: Julie (Xiaoshu) Qiu  \n",
      "Date: 8th March 2015  \n",
      "Data source: [cancer.gov](http://breastscreening.cancer.gov/rfdataset/)\n",
      "\n",
      "This dataset includes 2,392,998 screening mammograms (called the \"index mammogram\") from women included in the Breast Cancer Surveillance Consortium. "
     ]
    },
    {
     "cell_type": "code",
     "collapsed": false,
     "input": [
      "import matplotlib.pyplot as plt\n",
      "%pylab inline\n",
      "import pandas as pd\n",
      "bc = pd.read_csv('new_cancer.txt')\n",
      "bc.head()"
     ],
     "language": "python",
     "metadata": {},
     "outputs": [
      {
       "html": [
        "<div style=\"max-height:1000px;max-width:1500px;overflow:auto;\">\n",
        "<table border=\"1\" class=\"dataframe\">\n",
        "  <thead>\n",
        "    <tr style=\"text-align: right;\">\n",
        "      <th></th>\n",
        "      <th>Hispanic</th>\n",
        "      <th>agefirst</th>\n",
        "      <th>agegrp</th>\n",
        "      <th>bmi</th>\n",
        "      <th>brstproc</th>\n",
        "      <th>cancer</th>\n",
        "      <th>density</th>\n",
        "      <th>hrt</th>\n",
        "      <th>invasive</th>\n",
        "      <th>lastmamm</th>\n",
        "      <th>menopaus</th>\n",
        "      <th>nrelbc</th>\n",
        "      <th>race</th>\n",
        "      <th>surgmeno</th>\n",
        "      <th>training</th>\n",
        "    </tr>\n",
        "  </thead>\n",
        "  <tbody>\n",
        "    <tr>\n",
        "      <th>0</th>\n",
        "      <td> 0</td>\n",
        "      <td> 0</td>\n",
        "      <td> 1</td>\n",
        "      <td> 1</td>\n",
        "      <td> 0</td>\n",
        "      <td> 0</td>\n",
        "      <td> 1</td>\n",
        "      <td> 9</td>\n",
        "      <td> 0</td>\n",
        "      <td> 0</td>\n",
        "      <td> 0</td>\n",
        "      <td> 0</td>\n",
        "      <td> 1</td>\n",
        "      <td> 9</td>\n",
        "      <td> 1</td>\n",
        "    </tr>\n",
        "    <tr>\n",
        "      <th>1</th>\n",
        "      <td> 0</td>\n",
        "      <td> 0</td>\n",
        "      <td> 1</td>\n",
        "      <td> 1</td>\n",
        "      <td> 0</td>\n",
        "      <td> 0</td>\n",
        "      <td> 1</td>\n",
        "      <td> 9</td>\n",
        "      <td> 0</td>\n",
        "      <td> 0</td>\n",
        "      <td> 0</td>\n",
        "      <td> 0</td>\n",
        "      <td> 1</td>\n",
        "      <td> 9</td>\n",
        "      <td> 1</td>\n",
        "    </tr>\n",
        "    <tr>\n",
        "      <th>2</th>\n",
        "      <td> 0</td>\n",
        "      <td> 0</td>\n",
        "      <td> 1</td>\n",
        "      <td> 1</td>\n",
        "      <td> 0</td>\n",
        "      <td> 0</td>\n",
        "      <td> 1</td>\n",
        "      <td> 9</td>\n",
        "      <td> 0</td>\n",
        "      <td> 0</td>\n",
        "      <td> 0</td>\n",
        "      <td> 0</td>\n",
        "      <td> 1</td>\n",
        "      <td> 9</td>\n",
        "      <td> 1</td>\n",
        "    </tr>\n",
        "    <tr>\n",
        "      <th>3</th>\n",
        "      <td> 0</td>\n",
        "      <td> 0</td>\n",
        "      <td> 1</td>\n",
        "      <td> 1</td>\n",
        "      <td> 0</td>\n",
        "      <td> 0</td>\n",
        "      <td> 1</td>\n",
        "      <td> 9</td>\n",
        "      <td> 0</td>\n",
        "      <td> 0</td>\n",
        "      <td> 0</td>\n",
        "      <td> 0</td>\n",
        "      <td> 1</td>\n",
        "      <td> 9</td>\n",
        "      <td> 1</td>\n",
        "    </tr>\n",
        "    <tr>\n",
        "      <th>4</th>\n",
        "      <td> 0</td>\n",
        "      <td> 0</td>\n",
        "      <td> 1</td>\n",
        "      <td> 1</td>\n",
        "      <td> 0</td>\n",
        "      <td> 0</td>\n",
        "      <td> 1</td>\n",
        "      <td> 9</td>\n",
        "      <td> 0</td>\n",
        "      <td> 9</td>\n",
        "      <td> 0</td>\n",
        "      <td> 0</td>\n",
        "      <td> 1</td>\n",
        "      <td> 9</td>\n",
        "      <td> 0</td>\n",
        "    </tr>\n",
        "  </tbody>\n",
        "</table>\n",
        "</div>"
       ],
       "metadata": {},
       "output_type": "pyout",
       "prompt_number": 1,
       "text": [
        "   Hispanic  agefirst  agegrp  bmi  brstproc  cancer  density  hrt  invasive  \\\n",
        "0         0         0       1    1         0       0        1    9         0   \n",
        "1         0         0       1    1         0       0        1    9         0   \n",
        "2         0         0       1    1         0       0        1    9         0   \n",
        "3         0         0       1    1         0       0        1    9         0   \n",
        "4         0         0       1    1         0       0        1    9         0   \n",
        "\n",
        "   lastmamm  menopaus  nrelbc  race  surgmeno  training  \n",
        "0         0         0       0     1         9         1  \n",
        "1         0         0       0     1         9         1  \n",
        "2         0         0       0     1         9         1  \n",
        "3         0         0       0     1         9         1  \n",
        "4         9         0       0     1         9         0  "
       ]
      }
     ],
     "prompt_number": 1
    },
    {
     "cell_type": "code",
     "collapsed": false,
     "input": [
      "#x_cols = ['density','agegrp']\n",
      "#for tempcol in x_cols:\n",
      "#    filter_col=bc.groupby(tempcol).invasive.mean()[bc.groupby(tempcol).invasive.mean() > bc.invasive.mean()].reset_index()[tempcol]\n",
      "    #bc[bc[tempcol].isin(filter_col) == True]\n",
      "#    temp11 = bc[bc[tempcol].isin(filter_col) == True]\n",
      "\n",
      "#temp11"
     ],
     "language": "python",
     "metadata": {},
     "outputs": [],
     "prompt_number": 104
    },
    {
     "cell_type": "code",
     "collapsed": false,
     "input": [
      "tempcol = 'agegrp'\n",
      "filter_col=bc.groupby(tempcol).invasive.mean()[bc.groupby(tempcol).invasive.mean() > bc.invasive.mean()].reset_index()[tempcol]\n",
      "#bc[bc[tempcol].isin(filter_col) == True]"
     ],
     "language": "python",
     "metadata": {},
     "outputs": [],
     "prompt_number": 77
    },
    {
     "cell_type": "code",
     "collapsed": false,
     "input": [],
     "language": "python",
     "metadata": {},
     "outputs": [],
     "prompt_number": 262
    },
    {
     "cell_type": "code",
     "collapsed": false,
     "input": [],
     "language": "python",
     "metadata": {},
     "outputs": [],
     "prompt_number": 21
    },
    {
     "cell_type": "code",
     "collapsed": false,
     "input": [
      "test=bc.groupby(['density']).invasive.mean()\n",
      "test2=test[test > bc.invasive.mean()]\n",
      "test2"
     ],
     "language": "python",
     "metadata": {},
     "outputs": [
      {
       "metadata": {},
       "output_type": "pyout",
       "prompt_number": 20,
       "text": [
        "density\n",
        "3          0.004418\n",
        "4          0.004139\n",
        "9          0.004263\n",
        "Name: invasive, dtype: float64"
       ]
      }
     ],
     "prompt_number": 20
    },
    {
     "cell_type": "code",
     "collapsed": false,
     "input": [],
     "language": "python",
     "metadata": {},
     "outputs": [],
     "prompt_number": 90
    },
    {
     "cell_type": "markdown",
     "metadata": {},
     "source": [
      "####Feature selection based on pvals"
     ]
    },
    {
     "cell_type": "code",
     "collapsed": false,
     "input": [],
     "language": "python",
     "metadata": {},
     "outputs": [],
     "prompt_number": 66
    },
    {
     "cell_type": "markdown",
     "metadata": {},
     "source": [
      "The cancer column represents \"the most common type of non-invasive breast cancer\". It is called \"non-invasive\" because it hasn\u2019t spread beyond the milk duct into any normal surrounding breast tissue. DCIS isn\u2019t life-threatening. \n",
      "\n",
      "The above result suggests there is a strong correlation between non invasive cancer and invasive cancer. In other words, people who have non invasive cancer are at greater risk of have invasive cancer.\n",
      "\n",
      "Get the result using the below sample code.   \n",
      "bc[(bc.invasive == 1) & (bc.cancer == 1)]"
     ]
    },
    {
     "cell_type": "code",
     "collapsed": false,
     "input": [],
     "language": "python",
     "metadata": {},
     "outputs": [],
     "prompt_number": 236
    },
    {
     "cell_type": "markdown",
     "metadata": {},
     "source": [
      "What immediately jumps out from the scatter matrix is that there is a very strong negative correlation between menopaus and whether the cancer is invasive. "
     ]
    },
    {
     "cell_type": "code",
     "collapsed": false,
     "input": [
      "%matplotlib inline\n",
      "import matplotlib.pyplot as plt\n",
      "#plt.plot()\n",
      "rets = bc.pct_change()\n",
      "corr = rets.corr()\n",
      "corr.plot"
     ],
     "language": "python",
     "metadata": {},
     "outputs": [],
     "prompt_number": 236
    },
    {
     "cell_type": "code",
     "collapsed": false,
     "input": [],
     "language": "python",
     "metadata": {},
     "outputs": [],
     "prompt_number": 158
    },
    {
     "cell_type": "code",
     "collapsed": false,
     "input": [],
     "language": "python",
     "metadata": {},
     "outputs": [],
     "prompt_number": 158
    },
    {
     "cell_type": "code",
     "collapsed": false,
     "input": [],
     "language": "python",
     "metadata": {},
     "outputs": []
    },
    {
     "cell_type": "markdown",
     "metadata": {},
     "source": [
      "Building a classification tree.  \n",
      "Get dummy variables on all the columns."
     ]
    },
    {
     "cell_type": "code",
     "collapsed": false,
     "input": [
      "bc_classification = bc\n",
      "#make dummy variables on all features that have 2+ variables\n",
      "#drop the ones with unknown\n",
      "#dataframe.get_dummies did not work, going through column by column\n",
      "Hispanic_dummies = pd.get_dummies(bc_classification.Hispanic, prefix='Hispanic').iloc[:,:-1]\n",
      "agefirst_dummies = pd.get_dummies(bc_classification.agefirst, prefix='agefirst').iloc[:,:-1]\n",
      "agegrp_dummies = pd.get_dummies(bc_classification.agegrp, prefix='agegrp')\n",
      "bmi_dummies = pd.get_dummies(bc_classification.bmi, prefix='bmi').iloc[:,:-1]\n",
      "brstproc_dummies = pd.get_dummies(bc_classification.brstproc, prefix='brstproc').iloc[:,:-1]\n",
      "density_dummies = pd.get_dummies(bc_classification.density, prefix='density').iloc[:,:-1]\n",
      "hrt_dummies = pd.get_dummies(bc_classification.hrt, prefix='hrt').iloc[:,:-1]\n",
      "lastmamm_dummies = pd.get_dummies(bc_classification.lastmamm, prefix='lastmamm').iloc[:,:-1]\n",
      "menopaus_dummies = pd.get_dummies(bc_classification.menopaus, prefix='menopaus').iloc[:,:-1]\n",
      "nrelbc_dummies = pd.get_dummies(bc_classification.nrelbc, prefix='nrelbc').iloc[:,:-1]\n",
      "race_dummies = pd.get_dummies(bc_classification.race, prefix='race').iloc[:,:-1]\n",
      "surgmeno_dummies = pd.get_dummies(bc_classification.surgmeno, prefix='surgmeno').iloc[:,:-1]\n",
      "\n",
      " \n",
      "bc_with_dummies = bc.join([Hispanic_dummies, agefirst_dummies,agegrp_dummies,bmi_dummies,\n",
      "                           brstproc_dummies,density_dummies,hrt_dummies,lastmamm_dummies,\n",
      "                           menopaus_dummies,nrelbc_dummies,race_dummies,surgmeno_dummies]).iloc[:,15:]"
     ],
     "language": "python",
     "metadata": {},
     "outputs": [],
     "prompt_number": 139
    },
    {
     "cell_type": "code",
     "collapsed": false,
     "input": [
      "#bc_with_dummies = bc_with_dummies.join(bc[['invasive']])\n",
      "bc_with_dummies.columns\n",
      "\n",
      "bc_with_dummies.columns = ['Hispanic_no', 'Hispanic_yes', \n",
      "                           'agefirst_lessThan30', 'agefirst_greaterThan30', 'agefirst_Nulliparous', \n",
      "                           'agegrp_35to39', 'agegrp_40to44', 'agegrp_45to49', 'agegrp_50to54', 'agegrp_55to59', 'agegrp_60to64', \n",
      "                           'agegrp_65to69', 'agegrp_70to74', 'agegrp_75to79', 'agegrp_80to84', \n",
      "                           'bmi_10to24.99', 'bmi_25to29.99', 'bmi_0to34.99', 'bmi_35orMore', 'brstproc_no', 'brstproc_yes', \n",
      "                           'density_Almost_entirely_fat_1', 'density_Scattered_fibroglandular_densities_2', 'density_Heterogeneously_dense_3', 'density_Extremely_dense_4', \n",
      "                           'hormone_no', 'hormone_yes', 'lastmamm_result_negative', 'lastmamm_false_positive', 'menopas_premenopausal', 'menopas_postmenopausal', \n",
      "                           'nrelbc_0', 'nrelbc_1', 'nrelbc_2', 'race_white', 'race_Asian_Pacific_Islander', 'race_black', 'race_Native_American', 'race_mixed', \n",
      "                           'srgmeno_natural', 'srgmeno_surgical']"
     ],
     "language": "python",
     "metadata": {},
     "outputs": [],
     "prompt_number": 322
    },
    {
     "cell_type": "code",
     "collapsed": false,
     "input": [],
     "language": "python",
     "metadata": {},
     "outputs": [],
     "prompt_number": 319
    },
    {
     "cell_type": "code",
     "collapsed": false,
     "input": [
      "#FEATURE SELECTION\n",
      "from sklearn import feature_selection as f_select\n",
      "from sklearn import linear_model as lm\n",
      "from sklearn import cross_validation as cv\n",
      "from sklearn import metrics \n",
      "\n",
      "x_columns = list(bc_with_dummies.columns)\n",
      "y_column = 'invasive'\n",
      "#cancer_column = 'cancer'\n",
      "#x_columns.remove(y_column)\n",
      "#x_columns.remove(cancer_column)\n",
      "#x_columns.remove('agegrp_1')\n",
      "\n",
      "significant_columns = []\n",
      "pvals = []\n",
      "for feature in x_columns:\n",
      "    pval = f_select.f_classif(bc_with_dummies[[feature]],bc[y_column])\n",
      "    if pval[1][0] < 0.01:\n",
      "        significant_columns.append(feature)\n",
      "        pvals.append(pval[1][0])\n",
      "\n",
      "x_train, x_test, y_train, y_test = cv.train_test_split(bc_with_dummies[significant_columns],\n",
      "                                                       bc[y_column],\n",
      "                                                       test_size=0.333,\n",
      "                                                       random_state=1234)\n",
      "\n",
      "model = lm.LogisticRegression().fit(x_train, y_train)\n",
      "\n",
      "print pd.DataFrame({\n",
      "    'column': significant_columns,\n",
      "    'coef': model.coef_[0],\n",
      "    'p-value':pvals,\n",
      "}).set_index('column')\n",
      "print '-----------Logistic Regression score on training dataset------------'\n",
      "print model.score(x_train,y_train)\n",
      "#print metrics.r2_score(y_train, model.predict(x_train))\n",
      "print'-----------Logistic Regression score on test dataset------------'\n",
      "print model.score(x_test, y_test)\n",
      "#print metrics.r2_score(y_test, model.predict(x_test))\n"
     ],
     "language": "python",
     "metadata": {},
     "outputs": [
      {
       "output_type": "stream",
       "stream": "stdout",
       "text": [
        "                                                  coef        p-value\n",
        "column                                                               \n",
        "Hispanic_no                                   0.092482   3.150210e-11\n",
        "Hispanic_yes                                 -0.201500   5.384082e-11\n",
        "agegrp_35to39                                -1.589343   1.208926e-16\n",
        "agegrp_40to44                                -1.399927   4.951642e-92\n",
        "agegrp_45to49                                -0.969926   2.469524e-52\n",
        "agegrp_50to54                                -0.713468   1.035967e-19\n",
        "agegrp_55to59                                -0.310792   3.754600e-06\n",
        "agegrp_60to64                                -0.195770   1.170303e-14\n",
        "agegrp_65to69                                -0.092208   2.997260e-23\n",
        "agegrp_70to74                                 0.050258   2.071304e-44\n",
        "agegrp_75to79                                 0.155633   1.637490e-52\n",
        "agegrp_80to84                                 0.188595   7.860242e-43\n",
        "brstproc_no                                  -0.067388   1.041703e-43\n",
        "brstproc_yes                                  0.178714   4.467515e-60\n",
        "density_Almost_entirely_fat_1                -1.031982   1.276579e-40\n",
        "density_Scattered_fibroglandular_densities_2 -0.317979   1.136944e-11\n",
        "density_Heterogeneously_dense_3               0.003071   9.001891e-16\n",
        "hormone_no                                   -0.116075   3.421564e-19\n",
        "hormone_yes                                   0.035912   1.618704e-38\n",
        "lastmamm_result_negative                     -0.162210   1.709632e-04\n",
        "lastmamm_false_positive                       0.336081   4.579377e-11\n",
        "menopas_premenopausal                        -0.040112  1.918358e-112\n",
        "menopas_postmenopausal                       -0.123848  2.136533e-150\n",
        "nrelbc_0                                      0.065400   2.109547e-15\n",
        "nrelbc_1                                      0.363368   4.494406e-33\n",
        "nrelbc_2                                      0.673346   1.362188e-13\n",
        "race_white                                   -0.011028   5.359134e-11\n",
        "race_Asian_Pacific_Islander                  -0.369249   2.712975e-08\n",
        "race_Native_American                         -0.635652   5.014175e-06\n",
        "srgmeno_natural                               0.091371   2.515776e-62\n",
        "srgmeno_surgical                             -0.072341   5.291720e-03\n",
        "-----------Logistic Regression score on training dataset------------\n",
        "0.996158205258"
       ]
      },
      {
       "output_type": "stream",
       "stream": "stdout",
       "text": [
        "\n",
        "-----------Logistic Regression score on test dataset------------\n",
        "0.995980518755"
       ]
      },
      {
       "output_type": "stream",
       "stream": "stdout",
       "text": [
        "\n"
       ]
      }
     ],
     "prompt_number": 323
    },
    {
     "cell_type": "code",
     "collapsed": false,
     "input": [],
     "language": "python",
     "metadata": {},
     "outputs": []
    },
    {
     "cell_type": "code",
     "collapsed": false,
     "input": [
      "import re\n",
      "import seaborn as sns\n",
      "sns.set(style=\"whitegrid\")\n",
      "#agegrp and cancer\n",
      "logisticReg_df = pd.DataFrame({\n",
      "    'column': significant_columns,\n",
      "    'coef': model.coef_[0],\n",
      "    'p-value':pvals,\n",
      "}).set_index('column').reset_index()\n",
      "\n",
      "#logisticReg_df.T\n",
      "#logisticReg_df[['column','coef']].T\n",
      "#logisticReg_df.column.isin([re.search('agegrp(.*)')])\n",
      "\n",
      "#re.search(u\"agegrp\",)\n",
      "indices = [i for i, x in enumerate(logisticReg_df.column) if re.match(\"(agegrp.*)\", x)]\n",
      "agegrp_sub = logisticReg_df.ix[indices][['column','coef']]\n",
      "print agegrp_sub\n",
      "#plt.xticks(logisticReg_df.column)\n",
      "#sns.factorplot(\"column\", \"coef\", agegrp_sub, kind=\"bar\");\n",
      "g = sns.factorplot(\"column\", \"coef\", data=agegrp_sub, kind=\"bar\")\n",
      "g.set_xticklabels(rotation=90)\n",
      "#1 = 35-39; 2 = 40-44; 3 = 45-49; 4 = 50-54; 5 = 55-59; 6 = 60-64; 7 = 65-69; 8 = 70-74; 9 = 75-79; 10 = 80-84"
     ],
     "language": "python",
     "metadata": {},
     "outputs": [
      {
       "output_type": "stream",
       "stream": "stdout",
       "text": [
        "           column      coef\n",
        "2   agegrp_35to39 -1.589343\n",
        "3   agegrp_40to44 -1.399927\n",
        "4   agegrp_45to49 -0.969926\n",
        "5   agegrp_50to54 -0.713468\n",
        "6   agegrp_55to59 -0.310792\n",
        "7   agegrp_60to64 -0.195770\n",
        "8   agegrp_65to69 -0.092208\n",
        "9   agegrp_70to74  0.050258\n",
        "10  agegrp_75to79  0.155633\n",
        "11  agegrp_80to84  0.188595\n"
       ]
      },
      {
       "metadata": {},
       "output_type": "pyout",
       "prompt_number": 325,
       "text": [
        "<seaborn.axisgrid.FacetGrid at 0x122f481d0>"
       ]
      },
      {
       "metadata": {},
       "output_type": "display_data",
       "png": "[encoded data removed]",
       "text": [
        "<matplotlib.figure.Figure at 0x11459cf10>"
       ]
      }
     ],
     "prompt_number": 325
    },
    {
     "cell_type": "code",
     "collapsed": false,
     "input": [
      "\n",
      "#breast cancer increase with age\n",
      "\n",
      "# This cancer dataset only samples women from 35 to 84. From the below chart, we can see that women can get cancer at any age, \n",
      "# but their chances of getting breast cancer increase with age. "
     ],
     "language": "python",
     "metadata": {},
     "outputs": []
    },
    {
     "cell_type": "code",
     "collapsed": false,
     "input": [
      "\n",
      "log_negative = logisticReg_df[logisticReg_df.coef < 0].sort(['p-value','coef'], ascending=[1,1])\n",
      "log_negative_g = sns.factorplot(\"column\", \"coef\", data=log_negative, kind=\"bar\",aspect=1.5)\n",
      "log_negative_g.set_xticklabels(rotation=80)\n",
      "#Being hispanic might have less risk of getting breast cancer. negative coefficient of 0.213754 \n",
      "#Having done previous breast procedures have higher risk of getting breast cancer, correlation at 0.183917 \n",
      "#High density breast, higher risk \n",
      "#hormone therapy, higher risk "
     ],
     "language": "python",
     "metadata": {},
     "outputs": [
      {
       "metadata": {},
       "output_type": "pyout",
       "prompt_number": 344,
       "text": [
        "<seaborn.axisgrid.FacetGrid at 0x115cfe350>"
       ]
      },
      {
       "metadata": {},
       "output_type": "display_data",
       "png": "[encoded data removed]",
       "text": [
        "<matplotlib.figure.Figure at 0x115d1d590>"
       ]
      }
     ],
     "prompt_number": 344
    },
    {
     "cell_type": "code",
     "collapsed": false,
     "input": [
      "# Three features stand out among the rest\n",
      "# If a women has one or more first degree relatives have breast cancer, they have higher chances of getting breast cancer, nothing we didn't know\n",
      "# One interesting feature also stands out - if the woman's last mammogram was false positive, at some point in the future, she might have invasive cancer. \n",
      "log_positive = logisticReg_df[logisticReg_df.coef > 0].sort(['coef'], ascending=[0])\n",
      "log_positive_g = sns.factorplot(\"column\", \"coef\", data=log_positive, kind=\"bar\")\n",
      "log_positive_g.set_xticklabels(rotation=90)"
     ],
     "language": "python",
     "metadata": {},
     "outputs": [
      {
       "metadata": {},
       "output_type": "pyout",
       "prompt_number": 339,
       "text": [
        "<seaborn.axisgrid.FacetGrid at 0x114af31d0>"
       ]
      },
      {
       "metadata": {},
       "output_type": "display_data",
       "png": "[encoded data removed]",
       "text": [
        "<matplotlib.figure.Figure at 0x114b18690>"
       ]
      }
     ],
     "prompt_number": 339
    },
    {
     "cell_type": "markdown",
     "metadata": {},
     "source": [
      "BMI Categories: \n",
      "Underweight = <18.5\n",
      "Normal weight = 18.5\u201324.9 \n",
      "Overweight = 25\u201329.9 \n",
      "Obesity = BMI of 30 or greater"
     ]
    },
    {
     "cell_type": "markdown",
     "metadata": {},
     "source": [
      "Building a regression tree"
     ]
    },
    {
     "cell_type": "code",
     "collapsed": false,
     "input": [
      "# define X (features) and y (response)\n",
      "X = bc_with_dummies\n",
      "y = bc.invasive\n",
      "#split into train/test \n",
      "from sklearn.cross_validation import train_test_split\n",
      "X_train, X_test, y_train, y_test = train_test_split(X, y, random_state=1)\n",
      "\n",
      "from sklearn.tree import DecisionTreeClassifier\n",
      "treeClf = DecisionTreeClassifier(random_state=1)\n",
      "treeClf.fit(X_train, y_train)\n",
      "\n",
      "preds = treeClf.predict(X_test)\n",
      "print preds\n",
      "print y_test"
     ],
     "language": "python",
     "metadata": {},
     "outputs": [
      {
       "output_type": "stream",
       "stream": "stdout",
       "text": [
        "[0 0 0 ..., 0 0 0]\n",
        "[0 0 0 ..., 0 0 0]\n"
       ]
      }
     ],
     "prompt_number": 357
    },
    {
     "cell_type": "code",
     "collapsed": false,
     "input": [],
     "language": "python",
     "metadata": {},
     "outputs": [],
     "prompt_number": 357
    },
    {
     "cell_type": "code",
     "collapsed": false,
     "input": [
      "% matplotlib inline\n",
      "from matplotlib import pyplot as plt\n",
      "import seaborn as sns\n",
      "from sklearn.cross_validation import cross_val_score\n",
      "\n",
      "sns.set_style('whitegrid')\n",
      "\n",
      "all_scores = []\n",
      "best_score = -1\n",
      "best_depth = 0\n",
      "for i in range(1, 6):\n",
      "    treeClf = DecisionTreeClassifier(max_depth=i, random_state=1)\n",
      "    scores = cross_val_score(treeClf, X, y, cv=3, scoring='mean_squared_error')\n",
      "    current_score = np.mean(np.sqrt(-scores))\n",
      "    # If the score mean is better than the current best, or best is the default (-1), then update!\n",
      "    if current_score < best_score or best_score == -1:\n",
      "        best_score = current_score\n",
      "        best_depth = i\n",
      "    # store to plot anyway!\n",
      "    all_scores.append(current_score)\n",
      "    \n",
      "print \"Best score: %s\" % best_score\n",
      "print \"Best depth: %s\" % best_depth\n",
      "\n",
      "# now actually fit the model\n",
      "treeClf = DecisionTreeClassifier(max_depth=best_depth, random_state=1)\n",
      "treeClf.fit(X, y)\n",
      "\n",
      "plt.figure()\n",
      "plt.plot(range(1, 6), all_scores)\n",
      "plt.xlabel('x=max tree depth')"
     ],
     "language": "python",
     "metadata": {},
     "outputs": [
      {
       "output_type": "stream",
       "stream": "stdout",
       "text": [
        "Best score: 0.257674060879\n",
        "Best depth: 1\n"
       ]
      },
      {
       "metadata": {},
       "output_type": "pyout",
       "prompt_number": 358,
       "text": [
        "<matplotlib.text.Text at 0x115a1edd0>"
       ]
      },
      {
       "metadata": {},
       "output_type": "display_data",
       "png": "[encoded data removed]",
       "text": [
        "<matplotlib.figure.Figure at 0x122dbe890>"
       ]
      }
     ],
     "prompt_number": 358
    },
    {
     "cell_type": "code",
     "collapsed": false,
     "input": [
      "print np.exp(-0.000220) #agegroup 9 higher odds, using agegroup 10 as a baseline\n",
      "print np.exp(-0.006245) #agegroup1\n"
     ],
     "language": "python",
     "metadata": {},
     "outputs": [
      {
       "output_type": "stream",
       "stream": "stdout",
       "text": [
        "0.999780024198\n",
        "0.993774459483\n"
       ]
      }
     ],
     "prompt_number": 84
    },
    {
     "cell_type": "code",
     "collapsed": false,
     "input": [
      "feature_cols  = bc_with_dummies.columns\n",
      "\n",
      "from sklearn.tree import export_graphviz\n",
      "with open(\"bc_with_dummies.dot\", 'wb') as f:\n",
      "    f = export_graphviz(treeClf, out_file=f, feature_names=feature_cols)\n",
      "#dot -Tpng bc.dot -o bc.png"
     ],
     "language": "python",
     "metadata": {},
     "outputs": [],
     "prompt_number": 360
    },
    {
     "cell_type": "markdown",
     "metadata": {},
     "source": [
      "Feature seleciton using decision tree"
     ]
    },
    {
     "cell_type": "code",
     "collapsed": false,
     "input": [
      "# fit a classification tree with max_depth=3 on all data\n",
      "from sklearn.tree import DecisionTreeClassifier\n",
      "treeclf = DecisionTreeClassifier(max_depth=4, random_state=1)\n",
      "treeclf.fit(X, y)\n",
      "bc_dt_df = pd.DataFrame({'feature':bc_with_dummies.columns, 'importance':treeclf.feature_importances_})\n",
      "bc_dt_df_gr8ter_0 = bc_dt_df[bc_dt_df.importance >0]\n",
      "bc_dt_df_gr8ter_0.sort(['importance'], ascending=[0])\n",
      "#Now we are getting slightly different feature importance\n",
      "#Decision Tree decides that \n",
      "# Postmenopausal is the most indicative feature of higher risk of getting breast cancer\n",
      "# Breast density of  = Almost entirely fat; 2 = Scattered fibroglandular densities; are at higher risk of getting breast cancer\n",
      "# Age groups  4 = 50-54; are most likely to have cancer, followed by age group 2 = 40-44; and age group 10 = 80-84\n",
      "#bc_dt_df.sort(['A', 'B'], ascending=[1, 0])\n",
      "#nrelbc number of first degree relatives with breat cancer: 2 or more "
     ],
     "language": "python",
     "metadata": {},
     "outputs": [
      {
       "html": [
        "<div style=\"max-height:1000px;max-width:1500px;overflow:auto;\">\n",
        "<table border=\"1\" class=\"dataframe\">\n",
        "  <thead>\n",
        "    <tr style=\"text-align: right;\">\n",
        "      <th></th>\n",
        "      <th>feature</th>\n",
        "      <th>importance</th>\n",
        "    </tr>\n",
        "  </thead>\n",
        "  <tbody>\n",
        "    <tr>\n",
        "      <th>30</th>\n",
        "      <td>                       menopas_postmenopausal</td>\n",
        "      <td> 0.414632</td>\n",
        "    </tr>\n",
        "    <tr>\n",
        "      <th>7 </th>\n",
        "      <td>                                agegrp_45to49</td>\n",
        "      <td> 0.166898</td>\n",
        "    </tr>\n",
        "    <tr>\n",
        "      <th>21</th>\n",
        "      <td>                density_Almost_entirely_fat_1</td>\n",
        "      <td> 0.142825</td>\n",
        "    </tr>\n",
        "    <tr>\n",
        "      <th>8 </th>\n",
        "      <td>                                agegrp_50to54</td>\n",
        "      <td> 0.138073</td>\n",
        "    </tr>\n",
        "    <tr>\n",
        "      <th>6 </th>\n",
        "      <td>                                agegrp_40to44</td>\n",
        "      <td> 0.031932</td>\n",
        "    </tr>\n",
        "    <tr>\n",
        "      <th>22</th>\n",
        "      <td> density_Scattered_fibroglandular_densities_2</td>\n",
        "      <td> 0.031082</td>\n",
        "    </tr>\n",
        "    <tr>\n",
        "      <th>35</th>\n",
        "      <td>                  race_Asian_Pacific_Islander</td>\n",
        "      <td> 0.023709</td>\n",
        "    </tr>\n",
        "    <tr>\n",
        "      <th>5 </th>\n",
        "      <td>                                agegrp_35to39</td>\n",
        "      <td> 0.014146</td>\n",
        "    </tr>\n",
        "    <tr>\n",
        "      <th>14</th>\n",
        "      <td>                                agegrp_80to84</td>\n",
        "      <td> 0.012060</td>\n",
        "    </tr>\n",
        "    <tr>\n",
        "      <th>33</th>\n",
        "      <td>                                     nrelbc_2</td>\n",
        "      <td> 0.008897</td>\n",
        "    </tr>\n",
        "    <tr>\n",
        "      <th>20</th>\n",
        "      <td>                                 brstproc_yes</td>\n",
        "      <td> 0.006970</td>\n",
        "    </tr>\n",
        "    <tr>\n",
        "      <th>13</th>\n",
        "      <td>                                agegrp_75to79</td>\n",
        "      <td> 0.003921</td>\n",
        "    </tr>\n",
        "    <tr>\n",
        "      <th>17</th>\n",
        "      <td>                                 bmi_0to34.99</td>\n",
        "      <td> 0.002801</td>\n",
        "    </tr>\n",
        "    <tr>\n",
        "      <th>31</th>\n",
        "      <td>                                     nrelbc_0</td>\n",
        "      <td> 0.002055</td>\n",
        "    </tr>\n",
        "  </tbody>\n",
        "</table>\n",
        "</div>"
       ],
       "metadata": {},
       "output_type": "pyout",
       "prompt_number": 348,
       "text": [
        "                                         feature  importance\n",
        "30                        menopas_postmenopausal    0.414632\n",
        "7                                  agegrp_45to49    0.166898\n",
        "21                 density_Almost_entirely_fat_1    0.142825\n",
        "8                                  agegrp_50to54    0.138073\n",
        "6                                  agegrp_40to44    0.031932\n",
        "22  density_Scattered_fibroglandular_densities_2    0.031082\n",
        "35                   race_Asian_Pacific_Islander    0.023709\n",
        "5                                  agegrp_35to39    0.014146\n",
        "14                                 agegrp_80to84    0.012060\n",
        "33                                      nrelbc_2    0.008897\n",
        "20                                  brstproc_yes    0.006970\n",
        "13                                 agegrp_75to79    0.003921\n",
        "17                                  bmi_0to34.99    0.002801\n",
        "31                                      nrelbc_0    0.002055"
       ]
      }
     ],
     "prompt_number": 348
    },
    {
     "cell_type": "markdown",
     "metadata": {},
     "source": [
      "![alt text](bc_withdummies_2.png \"Logo Title Text 1\")\n"
     ]
    },
    {
     "cell_type": "code",
     "collapsed": false,
     "input": [
      "# Compute the confusion matrix\n",
      "conf = metrics.confusion_matrix(y, treeclf.predict(X))\n",
      "print conf\n",
      " "
     ],
     "language": "python",
     "metadata": {},
     "outputs": [
      {
       "output_type": "stream",
       "stream": "stdout",
       "text": [
        "[[2383663       0]\n",
        " [   9335       0]]\n"
       ]
      }
     ],
     "prompt_number": 350
    },
    {
     "cell_type": "code",
     "collapsed": false,
     "input": [
      "x=X\n",
      "from sklearn import cross_validation\n",
      "from sklearn import naive_bayes\n",
      "\n",
      "\n",
      "kfold = cross_validation.KFold(n=x.shape[0], n_folds=3, shuffle=True, random_state=1234)\n",
      "train_acc = []\n",
      "test_acc = []\n",
      "for train_index, test_index in kfold:\n",
      "    print test_index\n",
      "    clf = treeClf\n",
      "    train_acc.append(clf.score(x[train_index], y[train_index]))\n",
      "    test_acc.append(clf.score(x[test_index], y[test_index]))"
     ],
     "language": "python",
     "metadata": {},
     "outputs": [
      {
       "output_type": "stream",
       "stream": "stdout",
       "text": [
        "[      2       5       6 ..., 2392986 2392990 2392994]\n"
       ]
      },
      {
       "ename": "IndexError",
       "evalue": "indices are out-of-bounds",
       "output_type": "pyerr",
       "traceback": [
        "\u001b[0;31m---------------------------------------------------------------------------\u001b[0m\n\u001b[0;31mIndexError\u001b[0m                                Traceback (most recent call last)",
        "\u001b[0;32m<ipython-input-359-ef8ca697fab1>\u001b[0m in \u001b[0;36m<module>\u001b[0;34m()\u001b[0m\n\u001b[1;32m     10\u001b[0m     \u001b[0;32mprint\u001b[0m \u001b[0mtest_index\u001b[0m\u001b[0;34m\u001b[0m\u001b[0m\n\u001b[1;32m     11\u001b[0m     \u001b[0mclf\u001b[0m \u001b[0;34m=\u001b[0m \u001b[0mtreeClf\u001b[0m\u001b[0;34m\u001b[0m\u001b[0m\n\u001b[0;32m---> 12\u001b[0;31m     \u001b[0mtrain_acc\u001b[0m\u001b[0;34m.\u001b[0m\u001b[0mappend\u001b[0m\u001b[0;34m(\u001b[0m\u001b[0mclf\u001b[0m\u001b[0;34m.\u001b[0m\u001b[0mscore\u001b[0m\u001b[0;34m(\u001b[0m\u001b[0mx\u001b[0m\u001b[0;34m[\u001b[0m\u001b[0mtrain_index\u001b[0m\u001b[0;34m]\u001b[0m\u001b[0;34m,\u001b[0m \u001b[0my\u001b[0m\u001b[0;34m[\u001b[0m\u001b[0mtrain_index\u001b[0m\u001b[0;34m]\u001b[0m\u001b[0;34m)\u001b[0m\u001b[0;34m)\u001b[0m\u001b[0;34m\u001b[0m\u001b[0m\n\u001b[0m\u001b[1;32m     13\u001b[0m     \u001b[0mtest_acc\u001b[0m\u001b[0;34m.\u001b[0m\u001b[0mappend\u001b[0m\u001b[0;34m(\u001b[0m\u001b[0mclf\u001b[0m\u001b[0;34m.\u001b[0m\u001b[0mscore\u001b[0m\u001b[0;34m(\u001b[0m\u001b[0mx\u001b[0m\u001b[0;34m[\u001b[0m\u001b[0mtest_index\u001b[0m\u001b[0;34m]\u001b[0m\u001b[0;34m,\u001b[0m \u001b[0my\u001b[0m\u001b[0;34m[\u001b[0m\u001b[0mtest_index\u001b[0m\u001b[0;34m]\u001b[0m\u001b[0;34m)\u001b[0m\u001b[0;34m)\u001b[0m\u001b[0;34m\u001b[0m\u001b[0m\n",
        "\u001b[0;32m/Users/caramel-slice/anaconda/lib/python2.7/site-packages/pandas/core/frame.pyc\u001b[0m in \u001b[0;36m__getitem__\u001b[0;34m(self, key)\u001b[0m\n\u001b[1;32m   1772\u001b[0m         \u001b[0;32mif\u001b[0m \u001b[0misinstance\u001b[0m\u001b[0;34m(\u001b[0m\u001b[0mkey\u001b[0m\u001b[0;34m,\u001b[0m \u001b[0;34m(\u001b[0m\u001b[0mSeries\u001b[0m\u001b[0;34m,\u001b[0m \u001b[0mnp\u001b[0m\u001b[0;34m.\u001b[0m\u001b[0mndarray\u001b[0m\u001b[0;34m,\u001b[0m \u001b[0mIndex\u001b[0m\u001b[0;34m,\u001b[0m \u001b[0mlist\u001b[0m\u001b[0;34m)\u001b[0m\u001b[0;34m)\u001b[0m\u001b[0;34m:\u001b[0m\u001b[0;34m\u001b[0m\u001b[0m\n\u001b[1;32m   1773\u001b[0m             \u001b[0;31m# either boolean or fancy integer index\u001b[0m\u001b[0;34m\u001b[0m\u001b[0;34m\u001b[0m\u001b[0m\n\u001b[0;32m-> 1774\u001b[0;31m             \u001b[0;32mreturn\u001b[0m \u001b[0mself\u001b[0m\u001b[0;34m.\u001b[0m\u001b[0m_getitem_array\u001b[0m\u001b[0;34m(\u001b[0m\u001b[0mkey\u001b[0m\u001b[0;34m)\u001b[0m\u001b[0;34m\u001b[0m\u001b[0m\n\u001b[0m\u001b[1;32m   1775\u001b[0m         \u001b[0;32melif\u001b[0m \u001b[0misinstance\u001b[0m\u001b[0;34m(\u001b[0m\u001b[0mkey\u001b[0m\u001b[0;34m,\u001b[0m \u001b[0mDataFrame\u001b[0m\u001b[0;34m)\u001b[0m\u001b[0;34m:\u001b[0m\u001b[0;34m\u001b[0m\u001b[0m\n\u001b[1;32m   1776\u001b[0m             \u001b[0;32mreturn\u001b[0m \u001b[0mself\u001b[0m\u001b[0;34m.\u001b[0m\u001b[0m_getitem_frame\u001b[0m\u001b[0;34m(\u001b[0m\u001b[0mkey\u001b[0m\u001b[0;34m)\u001b[0m\u001b[0;34m\u001b[0m\u001b[0m\n",
        "\u001b[0;32m/Users/caramel-slice/anaconda/lib/python2.7/site-packages/pandas/core/frame.pyc\u001b[0m in \u001b[0;36m_getitem_array\u001b[0;34m(self, key)\u001b[0m\n\u001b[1;32m   1817\u001b[0m         \u001b[0;32melse\u001b[0m\u001b[0;34m:\u001b[0m\u001b[0;34m\u001b[0m\u001b[0m\n\u001b[1;32m   1818\u001b[0m             \u001b[0mindexer\u001b[0m \u001b[0;34m=\u001b[0m \u001b[0mself\u001b[0m\u001b[0;34m.\u001b[0m\u001b[0mix\u001b[0m\u001b[0;34m.\u001b[0m\u001b[0m_convert_to_indexer\u001b[0m\u001b[0;34m(\u001b[0m\u001b[0mkey\u001b[0m\u001b[0;34m,\u001b[0m \u001b[0maxis\u001b[0m\u001b[0;34m=\u001b[0m\u001b[0;36m1\u001b[0m\u001b[0;34m)\u001b[0m\u001b[0;34m\u001b[0m\u001b[0m\n\u001b[0;32m-> 1819\u001b[0;31m             \u001b[0;32mreturn\u001b[0m \u001b[0mself\u001b[0m\u001b[0;34m.\u001b[0m\u001b[0mtake\u001b[0m\u001b[0;34m(\u001b[0m\u001b[0mindexer\u001b[0m\u001b[0;34m,\u001b[0m \u001b[0maxis\u001b[0m\u001b[0;34m=\u001b[0m\u001b[0;36m1\u001b[0m\u001b[0;34m,\u001b[0m \u001b[0mconvert\u001b[0m\u001b[0;34m=\u001b[0m\u001b[0mTrue\u001b[0m\u001b[0;34m)\u001b[0m\u001b[0;34m\u001b[0m\u001b[0m\n\u001b[0m\u001b[1;32m   1820\u001b[0m \u001b[0;34m\u001b[0m\u001b[0m\n\u001b[1;32m   1821\u001b[0m     \u001b[0;32mdef\u001b[0m \u001b[0m_getitem_multilevel\u001b[0m\u001b[0;34m(\u001b[0m\u001b[0mself\u001b[0m\u001b[0;34m,\u001b[0m \u001b[0mkey\u001b[0m\u001b[0;34m)\u001b[0m\u001b[0;34m:\u001b[0m\u001b[0;34m\u001b[0m\u001b[0m\n",
        "\u001b[0;32m/Users/caramel-slice/anaconda/lib/python2.7/site-packages/pandas/core/generic.pyc\u001b[0m in \u001b[0;36mtake\u001b[0;34m(self, indices, axis, convert, is_copy)\u001b[0m\n\u001b[1;32m   1330\u001b[0m         new_data = self._data.take(indices,\n\u001b[1;32m   1331\u001b[0m                                    \u001b[0maxis\u001b[0m\u001b[0;34m=\u001b[0m\u001b[0mself\u001b[0m\u001b[0;34m.\u001b[0m\u001b[0m_get_block_manager_axis\u001b[0m\u001b[0;34m(\u001b[0m\u001b[0maxis\u001b[0m\u001b[0;34m)\u001b[0m\u001b[0;34m,\u001b[0m\u001b[0;34m\u001b[0m\u001b[0m\n\u001b[0;32m-> 1332\u001b[0;31m                                    convert=True, verify=True)\n\u001b[0m\u001b[1;32m   1333\u001b[0m         \u001b[0mresult\u001b[0m \u001b[0;34m=\u001b[0m \u001b[0mself\u001b[0m\u001b[0;34m.\u001b[0m\u001b[0m_constructor\u001b[0m\u001b[0;34m(\u001b[0m\u001b[0mnew_data\u001b[0m\u001b[0;34m)\u001b[0m\u001b[0;34m.\u001b[0m\u001b[0m__finalize__\u001b[0m\u001b[0;34m(\u001b[0m\u001b[0mself\u001b[0m\u001b[0;34m)\u001b[0m\u001b[0;34m\u001b[0m\u001b[0m\n\u001b[1;32m   1334\u001b[0m \u001b[0;34m\u001b[0m\u001b[0m\n",
        "\u001b[0;32m/Users/caramel-slice/anaconda/lib/python2.7/site-packages/pandas/core/internals.pyc\u001b[0m in \u001b[0;36mtake\u001b[0;34m(self, indexer, axis, verify, convert)\u001b[0m\n\u001b[1;32m   3264\u001b[0m         \u001b[0mn\u001b[0m \u001b[0;34m=\u001b[0m \u001b[0mself\u001b[0m\u001b[0;34m.\u001b[0m\u001b[0mshape\u001b[0m\u001b[0;34m[\u001b[0m\u001b[0maxis\u001b[0m\u001b[0;34m]\u001b[0m\u001b[0;34m\u001b[0m\u001b[0m\n\u001b[1;32m   3265\u001b[0m         \u001b[0;32mif\u001b[0m \u001b[0mconvert\u001b[0m\u001b[0;34m:\u001b[0m\u001b[0;34m\u001b[0m\u001b[0m\n\u001b[0;32m-> 3266\u001b[0;31m             \u001b[0mindexer\u001b[0m \u001b[0;34m=\u001b[0m \u001b[0m_maybe_convert_indices\u001b[0m\u001b[0;34m(\u001b[0m\u001b[0mindexer\u001b[0m\u001b[0;34m,\u001b[0m \u001b[0mn\u001b[0m\u001b[0;34m)\u001b[0m\u001b[0;34m\u001b[0m\u001b[0m\n\u001b[0m\u001b[1;32m   3267\u001b[0m \u001b[0;34m\u001b[0m\u001b[0m\n\u001b[1;32m   3268\u001b[0m         \u001b[0;32mif\u001b[0m \u001b[0mverify\u001b[0m\u001b[0;34m:\u001b[0m\u001b[0;34m\u001b[0m\u001b[0m\n",
        "\u001b[0;32m/Users/caramel-slice/anaconda/lib/python2.7/site-packages/pandas/core/indexing.pyc\u001b[0m in \u001b[0;36m_maybe_convert_indices\u001b[0;34m(indices, n)\u001b[0m\n\u001b[1;32m   1702\u001b[0m     \u001b[0mmask\u001b[0m \u001b[0;34m=\u001b[0m \u001b[0;34m(\u001b[0m\u001b[0mindices\u001b[0m \u001b[0;34m>=\u001b[0m \u001b[0mn\u001b[0m\u001b[0;34m)\u001b[0m \u001b[0;34m|\u001b[0m \u001b[0;34m(\u001b[0m\u001b[0mindices\u001b[0m \u001b[0;34m<\u001b[0m \u001b[0;36m0\u001b[0m\u001b[0;34m)\u001b[0m\u001b[0;34m\u001b[0m\u001b[0m\n\u001b[1;32m   1703\u001b[0m     \u001b[0;32mif\u001b[0m \u001b[0mmask\u001b[0m\u001b[0;34m.\u001b[0m\u001b[0many\u001b[0m\u001b[0;34m(\u001b[0m\u001b[0;34m)\u001b[0m\u001b[0;34m:\u001b[0m\u001b[0;34m\u001b[0m\u001b[0m\n\u001b[0;32m-> 1704\u001b[0;31m         \u001b[0;32mraise\u001b[0m \u001b[0mIndexError\u001b[0m\u001b[0;34m(\u001b[0m\u001b[0;34m\"indices are out-of-bounds\"\u001b[0m\u001b[0;34m)\u001b[0m\u001b[0;34m\u001b[0m\u001b[0m\n\u001b[0m\u001b[1;32m   1705\u001b[0m     \u001b[0;32mreturn\u001b[0m \u001b[0mindices\u001b[0m\u001b[0;34m\u001b[0m\u001b[0m\n\u001b[1;32m   1706\u001b[0m \u001b[0;34m\u001b[0m\u001b[0m\n",
        "\u001b[0;31mIndexError\u001b[0m: indices are out-of-bounds"
       ]
      }
     ],
     "prompt_number": 359
    },
    {
     "cell_type": "code",
     "collapsed": false,
     "input": [
      "import numpy as np\n",
      "from sklearn import cross_validation\n",
      "kfold = cross_validation.KFold(n=x.shape[0], n_folds=5, shuffle=True, random_state=1234)\n",
      "\n",
      "train_acc = []\n",
      "test_acc = []\n",
      "for train_index, test_index in kfold:\n",
      "    clf = DecisionTreeClassifier(max_depth=i, random_state=12)\n",
      "    train_acc.append(clf.score(x[train_index], y[train_index]))\n",
      "    test_acc.append(clf.score(x[test_index], y[test_index]))\n",
      "\n",
      "print np.array(test_acc).mean()\n",
      "print np.array(test_acc).std()\n",
      "\n",
      "plt.figure()\n",
      "sns.kdeplot(np.random.normal(loc=np.array(test_acc).mean(), scale=np.array(test_acc).std(), size=10000), shade=True)"
     ],
     "language": "python",
     "metadata": {},
     "outputs": [
      {
       "ename": "IndexError",
       "evalue": "indices are out-of-bounds",
       "output_type": "pyerr",
       "traceback": [
        "\u001b[0;31m---------------------------------------------------------------------------\u001b[0m\n\u001b[0;31mIndexError\u001b[0m                                Traceback (most recent call last)",
        "\u001b[0;32m<ipython-input-362-5a07d2a9b95d>\u001b[0m in \u001b[0;36m<module>\u001b[0;34m()\u001b[0m\n\u001b[1;32m      7\u001b[0m \u001b[0;32mfor\u001b[0m \u001b[0mtrain_index\u001b[0m\u001b[0;34m,\u001b[0m \u001b[0mtest_index\u001b[0m \u001b[0;32min\u001b[0m \u001b[0mkfold\u001b[0m\u001b[0;34m:\u001b[0m\u001b[0;34m\u001b[0m\u001b[0m\n\u001b[1;32m      8\u001b[0m     \u001b[0mclf\u001b[0m \u001b[0;34m=\u001b[0m \u001b[0mDecisionTreeClassifier\u001b[0m\u001b[0;34m(\u001b[0m\u001b[0mmax_depth\u001b[0m\u001b[0;34m=\u001b[0m\u001b[0mi\u001b[0m\u001b[0;34m,\u001b[0m \u001b[0mrandom_state\u001b[0m\u001b[0;34m=\u001b[0m\u001b[0;36m12\u001b[0m\u001b[0;34m)\u001b[0m\u001b[0;34m\u001b[0m\u001b[0m\n\u001b[0;32m----> 9\u001b[0;31m     \u001b[0mtrain_acc\u001b[0m\u001b[0;34m.\u001b[0m\u001b[0mappend\u001b[0m\u001b[0;34m(\u001b[0m\u001b[0mclf\u001b[0m\u001b[0;34m.\u001b[0m\u001b[0mscore\u001b[0m\u001b[0;34m(\u001b[0m\u001b[0mx\u001b[0m\u001b[0;34m[\u001b[0m\u001b[0mtrain_index\u001b[0m\u001b[0;34m]\u001b[0m\u001b[0;34m,\u001b[0m \u001b[0my\u001b[0m\u001b[0;34m[\u001b[0m\u001b[0mtrain_index\u001b[0m\u001b[0;34m]\u001b[0m\u001b[0;34m)\u001b[0m\u001b[0;34m)\u001b[0m\u001b[0;34m\u001b[0m\u001b[0m\n\u001b[0m\u001b[1;32m     10\u001b[0m     \u001b[0mtest_acc\u001b[0m\u001b[0;34m.\u001b[0m\u001b[0mappend\u001b[0m\u001b[0;34m(\u001b[0m\u001b[0mclf\u001b[0m\u001b[0;34m.\u001b[0m\u001b[0mscore\u001b[0m\u001b[0;34m(\u001b[0m\u001b[0mx\u001b[0m\u001b[0;34m[\u001b[0m\u001b[0mtest_index\u001b[0m\u001b[0;34m]\u001b[0m\u001b[0;34m,\u001b[0m \u001b[0my\u001b[0m\u001b[0;34m[\u001b[0m\u001b[0mtest_index\u001b[0m\u001b[0;34m]\u001b[0m\u001b[0;34m)\u001b[0m\u001b[0;34m)\u001b[0m\u001b[0;34m\u001b[0m\u001b[0m\n\u001b[1;32m     11\u001b[0m \u001b[0;34m\u001b[0m\u001b[0m\n",
        "\u001b[0;32m/Users/caramel-slice/anaconda/lib/python2.7/site-packages/pandas/core/frame.pyc\u001b[0m in \u001b[0;36m__getitem__\u001b[0;34m(self, key)\u001b[0m\n\u001b[1;32m   1772\u001b[0m         \u001b[0;32mif\u001b[0m \u001b[0misinstance\u001b[0m\u001b[0;34m(\u001b[0m\u001b[0mkey\u001b[0m\u001b[0;34m,\u001b[0m \u001b[0;34m(\u001b[0m\u001b[0mSeries\u001b[0m\u001b[0;34m,\u001b[0m \u001b[0mnp\u001b[0m\u001b[0;34m.\u001b[0m\u001b[0mndarray\u001b[0m\u001b[0;34m,\u001b[0m \u001b[0mIndex\u001b[0m\u001b[0;34m,\u001b[0m \u001b[0mlist\u001b[0m\u001b[0;34m)\u001b[0m\u001b[0;34m)\u001b[0m\u001b[0;34m:\u001b[0m\u001b[0;34m\u001b[0m\u001b[0m\n\u001b[1;32m   1773\u001b[0m             \u001b[0;31m# either boolean or fancy integer index\u001b[0m\u001b[0;34m\u001b[0m\u001b[0;34m\u001b[0m\u001b[0m\n\u001b[0;32m-> 1774\u001b[0;31m             \u001b[0;32mreturn\u001b[0m \u001b[0mself\u001b[0m\u001b[0;34m.\u001b[0m\u001b[0m_getitem_array\u001b[0m\u001b[0;34m(\u001b[0m\u001b[0mkey\u001b[0m\u001b[0;34m)\u001b[0m\u001b[0;34m\u001b[0m\u001b[0m\n\u001b[0m\u001b[1;32m   1775\u001b[0m         \u001b[0;32melif\u001b[0m \u001b[0misinstance\u001b[0m\u001b[0;34m(\u001b[0m\u001b[0mkey\u001b[0m\u001b[0;34m,\u001b[0m \u001b[0mDataFrame\u001b[0m\u001b[0;34m)\u001b[0m\u001b[0;34m:\u001b[0m\u001b[0;34m\u001b[0m\u001b[0m\n\u001b[1;32m   1776\u001b[0m             \u001b[0;32mreturn\u001b[0m \u001b[0mself\u001b[0m\u001b[0;34m.\u001b[0m\u001b[0m_getitem_frame\u001b[0m\u001b[0;34m(\u001b[0m\u001b[0mkey\u001b[0m\u001b[0;34m)\u001b[0m\u001b[0;34m\u001b[0m\u001b[0m\n",
        "\u001b[0;32m/Users/caramel-slice/anaconda/lib/python2.7/site-packages/pandas/core/frame.pyc\u001b[0m in \u001b[0;36m_getitem_array\u001b[0;34m(self, key)\u001b[0m\n\u001b[1;32m   1817\u001b[0m         \u001b[0;32melse\u001b[0m\u001b[0;34m:\u001b[0m\u001b[0;34m\u001b[0m\u001b[0m\n\u001b[1;32m   1818\u001b[0m             \u001b[0mindexer\u001b[0m \u001b[0;34m=\u001b[0m \u001b[0mself\u001b[0m\u001b[0;34m.\u001b[0m\u001b[0mix\u001b[0m\u001b[0;34m.\u001b[0m\u001b[0m_convert_to_indexer\u001b[0m\u001b[0;34m(\u001b[0m\u001b[0mkey\u001b[0m\u001b[0;34m,\u001b[0m \u001b[0maxis\u001b[0m\u001b[0;34m=\u001b[0m\u001b[0;36m1\u001b[0m\u001b[0;34m)\u001b[0m\u001b[0;34m\u001b[0m\u001b[0m\n\u001b[0;32m-> 1819\u001b[0;31m             \u001b[0;32mreturn\u001b[0m \u001b[0mself\u001b[0m\u001b[0;34m.\u001b[0m\u001b[0mtake\u001b[0m\u001b[0;34m(\u001b[0m\u001b[0mindexer\u001b[0m\u001b[0;34m,\u001b[0m \u001b[0maxis\u001b[0m\u001b[0;34m=\u001b[0m\u001b[0;36m1\u001b[0m\u001b[0;34m,\u001b[0m \u001b[0mconvert\u001b[0m\u001b[0;34m=\u001b[0m\u001b[0mTrue\u001b[0m\u001b[0;34m)\u001b[0m\u001b[0;34m\u001b[0m\u001b[0m\n\u001b[0m\u001b[1;32m   1820\u001b[0m \u001b[0;34m\u001b[0m\u001b[0m\n\u001b[1;32m   1821\u001b[0m     \u001b[0;32mdef\u001b[0m \u001b[0m_getitem_multilevel\u001b[0m\u001b[0;34m(\u001b[0m\u001b[0mself\u001b[0m\u001b[0;34m,\u001b[0m \u001b[0mkey\u001b[0m\u001b[0;34m)\u001b[0m\u001b[0;34m:\u001b[0m\u001b[0;34m\u001b[0m\u001b[0m\n",
        "\u001b[0;32m/Users/caramel-slice/anaconda/lib/python2.7/site-packages/pandas/core/generic.pyc\u001b[0m in \u001b[0;36mtake\u001b[0;34m(self, indices, axis, convert, is_copy)\u001b[0m\n\u001b[1;32m   1330\u001b[0m         new_data = self._data.take(indices,\n\u001b[1;32m   1331\u001b[0m                                    \u001b[0maxis\u001b[0m\u001b[0;34m=\u001b[0m\u001b[0mself\u001b[0m\u001b[0;34m.\u001b[0m\u001b[0m_get_block_manager_axis\u001b[0m\u001b[0;34m(\u001b[0m\u001b[0maxis\u001b[0m\u001b[0;34m)\u001b[0m\u001b[0;34m,\u001b[0m\u001b[0;34m\u001b[0m\u001b[0m\n\u001b[0;32m-> 1332\u001b[0;31m                                    convert=True, verify=True)\n\u001b[0m\u001b[1;32m   1333\u001b[0m         \u001b[0mresult\u001b[0m \u001b[0;34m=\u001b[0m \u001b[0mself\u001b[0m\u001b[0;34m.\u001b[0m\u001b[0m_constructor\u001b[0m\u001b[0;34m(\u001b[0m\u001b[0mnew_data\u001b[0m\u001b[0;34m)\u001b[0m\u001b[0;34m.\u001b[0m\u001b[0m__finalize__\u001b[0m\u001b[0;34m(\u001b[0m\u001b[0mself\u001b[0m\u001b[0;34m)\u001b[0m\u001b[0;34m\u001b[0m\u001b[0m\n\u001b[1;32m   1334\u001b[0m \u001b[0;34m\u001b[0m\u001b[0m\n",
        "\u001b[0;32m/Users/caramel-slice/anaconda/lib/python2.7/site-packages/pandas/core/internals.pyc\u001b[0m in \u001b[0;36mtake\u001b[0;34m(self, indexer, axis, verify, convert)\u001b[0m\n\u001b[1;32m   3264\u001b[0m         \u001b[0mn\u001b[0m \u001b[0;34m=\u001b[0m \u001b[0mself\u001b[0m\u001b[0;34m.\u001b[0m\u001b[0mshape\u001b[0m\u001b[0;34m[\u001b[0m\u001b[0maxis\u001b[0m\u001b[0;34m]\u001b[0m\u001b[0;34m\u001b[0m\u001b[0m\n\u001b[1;32m   3265\u001b[0m         \u001b[0;32mif\u001b[0m \u001b[0mconvert\u001b[0m\u001b[0;34m:\u001b[0m\u001b[0;34m\u001b[0m\u001b[0m\n\u001b[0;32m-> 3266\u001b[0;31m             \u001b[0mindexer\u001b[0m \u001b[0;34m=\u001b[0m \u001b[0m_maybe_convert_indices\u001b[0m\u001b[0;34m(\u001b[0m\u001b[0mindexer\u001b[0m\u001b[0;34m,\u001b[0m \u001b[0mn\u001b[0m\u001b[0;34m)\u001b[0m\u001b[0;34m\u001b[0m\u001b[0m\n\u001b[0m\u001b[1;32m   3267\u001b[0m \u001b[0;34m\u001b[0m\u001b[0m\n\u001b[1;32m   3268\u001b[0m         \u001b[0;32mif\u001b[0m \u001b[0mverify\u001b[0m\u001b[0;34m:\u001b[0m\u001b[0;34m\u001b[0m\u001b[0m\n",
        "\u001b[0;32m/Users/caramel-slice/anaconda/lib/python2.7/site-packages/pandas/core/indexing.pyc\u001b[0m in \u001b[0;36m_maybe_convert_indices\u001b[0;34m(indices, n)\u001b[0m\n\u001b[1;32m   1702\u001b[0m     \u001b[0mmask\u001b[0m \u001b[0;34m=\u001b[0m \u001b[0;34m(\u001b[0m\u001b[0mindices\u001b[0m \u001b[0;34m>=\u001b[0m \u001b[0mn\u001b[0m\u001b[0;34m)\u001b[0m \u001b[0;34m|\u001b[0m \u001b[0;34m(\u001b[0m\u001b[0mindices\u001b[0m \u001b[0;34m<\u001b[0m \u001b[0;36m0\u001b[0m\u001b[0;34m)\u001b[0m\u001b[0;34m\u001b[0m\u001b[0m\n\u001b[1;32m   1703\u001b[0m     \u001b[0;32mif\u001b[0m \u001b[0mmask\u001b[0m\u001b[0;34m.\u001b[0m\u001b[0many\u001b[0m\u001b[0;34m(\u001b[0m\u001b[0;34m)\u001b[0m\u001b[0;34m:\u001b[0m\u001b[0;34m\u001b[0m\u001b[0m\n\u001b[0;32m-> 1704\u001b[0;31m         \u001b[0;32mraise\u001b[0m \u001b[0mIndexError\u001b[0m\u001b[0;34m(\u001b[0m\u001b[0;34m\"indices are out-of-bounds\"\u001b[0m\u001b[0;34m)\u001b[0m\u001b[0;34m\u001b[0m\u001b[0m\n\u001b[0m\u001b[1;32m   1705\u001b[0m     \u001b[0;32mreturn\u001b[0m \u001b[0mindices\u001b[0m\u001b[0;34m\u001b[0m\u001b[0m\n\u001b[1;32m   1706\u001b[0m \u001b[0;34m\u001b[0m\u001b[0m\n",
        "\u001b[0;31mIndexError\u001b[0m: indices are out-of-bounds"
       ]
      }
     ],
     "prompt_number": 362
    },
    {
     "cell_type": "code",
     "collapsed": false,
     "input": [],
     "language": "python",
     "metadata": {},
     "outputs": []
    }
   ],
   "metadata": {}
  }
 ]
}