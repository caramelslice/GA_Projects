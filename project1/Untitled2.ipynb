{
 "metadata": {
  "name": "",
  "signature": "sha256:175bbc3bb1cd66a81081c698a136b8de04cad7abcc3362f92f07457c7290b848"
 },
 "nbformat": 3,
 "nbformat_minor": 0,
 "worksheets": [
  {
   "cells": [
    {
     "cell_type": "code",
     "collapsed": false,
     "input": [
      "states = raw_input(\"Enter 4 state names\").split(\",\")\n",
      "collection = states\n",
      "collection"
     ],
     "language": "python",
     "metadata": {},
     "outputs": [
      {
       "name": "stdout",
       "output_type": "stream",
       "stream": "stdout",
       "text": [
        "Enter 4 state namesdd, dd, dd\n"
       ]
      },
      {
       "metadata": {},
       "output_type": "pyout",
       "prompt_number": 99,
       "text": [
        "['dd', ' dd', ' dd']"
       ]
      }
     ],
     "prompt_number": 99
    },
    {
     "cell_type": "code",
     "collapsed": false,
     "input": [
      "collection = ['Kentucky', 'West Virginia', 'Florida']\n",
      "\n",
      "s1 = 0       # Exercise Play Computer Loop\n",
      "s2 = 0                  \n",
      "for n in collection:     \n",
      "    global s1 = collection[0]        \n",
      "    global s2 = collection[2]                   \n",
      "s2"
     ],
     "language": "python",
     "metadata": {},
     "outputs": [
      {
       "metadata": {},
       "output_type": "pyout",
       "prompt_number": 125,
       "text": [
        "'Florida'"
       ]
      }
     ],
     "prompt_number": 125
    },
    {
     "cell_type": "code",
     "collapsed": false,
     "input": [
      "collection = ['Kentucky2', 'West Virginia2', 'Florida2', 'Florida9']\n",
      "global lable1 \n",
      "for n in collection:     \n",
      "    lable1 = collection[0]\n",
      "    lable2 = collection[1]        \n",
      "    lable3 = collection[2]        \n",
      "    lable4 = collection[3]                   \n",
      "lable4"
     ],
     "language": "python",
     "metadata": {},
     "outputs": [
      {
       "metadata": {},
       "output_type": "pyout",
       "prompt_number": 139,
       "text": [
        "'Florida9'"
       ]
      }
     ],
     "prompt_number": 139
    },
    {
     "cell_type": "code",
     "collapsed": false,
     "input": [
      "lable1\n"
     ],
     "language": "python",
     "metadata": {},
     "outputs": [
      {
       "metadata": {},
       "output_type": "pyout",
       "prompt_number": 140,
       "text": [
        "'Kentucky2'"
       ]
      }
     ],
     "prompt_number": 140
    },
    {
     "cell_type": "code",
     "collapsed": false,
     "input": [
      "def change_merged_df(collection, cancer):\n",
      "    global sn1\n",
      "    global sn2\n",
      "    global sn3\n",
      "    global sn4\n",
      "    for x in collection:\n",
      "        state = x.lower().replace(\" \", \"_\") + \"_all\" + \" = \"\n",
      "        sn1 = \"merged_all_cancer[(merged_all_cancer.State == \" + \"\\\"\" +  collection[0] + \"\\\"\"+\") & (merged_all_cancer[\\\"Cancer Sites\\\"] == \\\"\" + cancer + \"\\\")]\"\n",
      "        sn2 = \"merged_all_cancer[(merged_all_cancer.State == \" + \"\\\"\" +  collection[1] + \"\\\"\"+\") & (merged_all_cancer[\\\"Cancer Sites\\\"] == \\\"\" + cancer + \"\\\")]\"\n",
      "        sn3 = \"merged_all_cancer[(merged_all_cancer.State == \" + \"\\\"\" +  collection[2] + \"\\\"\"+\") & (merged_all_cancer[\\\"Cancer Sites\\\"] == \\\"\" + cancer + \"\\\")]\"\n",
      "        sn4 = \"merged_all_cancer[(merged_all_cancer.State == \" + \"\\\"\" +  collection[3] + \"\\\"\"+\") & (merged_all_cancer[\\\"Cancer Sites\\\"] == \\\"\" + cancer + \"\\\")]\"\n",
      "        sn1 = state + sn1\n",
      "        \n",
      "#cancer = \"Oral Cavity and Pharynx\"        \n",
      "#collection = ['Kentucky', 'West Virginia', 'Florida']\n",
      "#change_merged_df(collection, cancer)\n",
      "\n",
      "def main():\n",
      "    cancer = raw_input(\"Enter cancer name. e.g.: Oral Cavity and Pharynx\")\n",
      "    states = raw_input(\"Enter 4 state names, sperate by comma, nothing else. e.g.:  Kentucky,West Virginia,Florida,Maine\").split(\",\")\n",
      "    collection = states\n",
      "    change_merged_df(collection, cancer)\n",
      "\n",
      "main()\n",
      "\n",
      "\n",
      "\n"
     ],
     "language": "python",
     "metadata": {},
     "outputs": [
      {
       "name": "stdout",
       "output_type": "stream",
       "stream": "stdout",
       "text": [
        "Enter cancer name. e.g.: Oral Cavity and PharynxOral Cavity and Pharynx\n"
       ]
      },
      {
       "name": "stdout",
       "output_type": "stream",
       "stream": "stdout",
       "text": [
        "Enter 4 state names, sperate by comma, nothing else. e.g.:  Kentucky,West Virginia,Florida,MaineKentucky,West Virginia,Florida,Maine\n"
       ]
      }
     ],
     "prompt_number": 187
    },
    {
     "cell_type": "code",
     "collapsed": false,
     "input": [
      "sn1"
     ],
     "language": "python",
     "metadata": {},
     "outputs": [
      {
       "metadata": {},
       "output_type": "pyout",
       "prompt_number": 188,
       "text": [
        "'maine_all = merged_all_cancer[(merged_all_cancer.State == \"Kentucky\") & (merged_all_cancer[\"Cancer Sites\"] == \"Oral Cavity and Pharynx\")]'"
       ]
      }
     ],
     "prompt_number": 188
    },
    {
     "cell_type": "code",
     "collapsed": false,
     "input": [
      "lst = ['spam', 'eggs', 'ham']\n",
      "d = {}   # empty dictionary\n",
      "for name in lst:\n",
      "    d[name] = rat.readColumn(ratDataset, name)"
     ],
     "language": "python",
     "metadata": {},
     "outputs": [
      {
       "ename": "NameError",
       "evalue": "name 'rat' is not defined",
       "output_type": "pyerr",
       "traceback": [
        "\u001b[0;31m---------------------------------------------------------------------------\u001b[0m\n\u001b[0;31mNameError\u001b[0m                                 Traceback (most recent call last)",
        "\u001b[0;32m<ipython-input-181-e1963138f4e4>\u001b[0m in \u001b[0;36m<module>\u001b[0;34m()\u001b[0m\n\u001b[1;32m      2\u001b[0m \u001b[0md\u001b[0m \u001b[0;34m=\u001b[0m \u001b[0;34m{\u001b[0m\u001b[0;34m}\u001b[0m   \u001b[0;31m# empty dictionary\u001b[0m\u001b[0;34m\u001b[0m\u001b[0m\n\u001b[1;32m      3\u001b[0m \u001b[0;32mfor\u001b[0m \u001b[0mname\u001b[0m \u001b[0;32min\u001b[0m \u001b[0mlst\u001b[0m\u001b[0;34m:\u001b[0m\u001b[0;34m\u001b[0m\u001b[0m\n\u001b[0;32m----> 4\u001b[0;31m     \u001b[0md\u001b[0m\u001b[0;34m[\u001b[0m\u001b[0mname\u001b[0m\u001b[0;34m]\u001b[0m \u001b[0;34m=\u001b[0m \u001b[0mrat\u001b[0m\u001b[0;34m.\u001b[0m\u001b[0mreadColumn\u001b[0m\u001b[0;34m(\u001b[0m\u001b[0mratDataset\u001b[0m\u001b[0;34m,\u001b[0m \u001b[0mname\u001b[0m\u001b[0;34m)\u001b[0m\u001b[0;34m\u001b[0m\u001b[0m\n\u001b[0m",
        "\u001b[0;31mNameError\u001b[0m: name 'rat' is not defined"
       ]
      }
     ],
     "prompt_number": 181
    },
    {
     "cell_type": "code",
     "collapsed": false,
     "input": [
      "\n",
      "Kentucky_all = merged_all_cancer[(merged_all_cancer.State == \"Kentucky\") & (merged_all_cancer['Cancer Sites'] == 'Oral Cavity and Pharynx')]\n",
      "West Virginia_all = merged_all_cancer[(merged_all_cancer.State == \"West Virginia\") & (merged_all_cancer['Cancer Sites'] == 'Oral Cavity and Pharynx')]\n",
      "Florida_all = merged_all_cancer[(merged_all_cancer.State == \"Florida\") & (merged_all_cancer['Cancer Sites'] == 'Oral Cavity and Pharynx')]\n",
      "maine_all = merged_all_cancer[(merged_all_cancer.State == \"Maine\") & (merged_all_cancer['Cancer Sites'] == 'Oral Cavity and Pharynx')]"
     ],
     "language": "python",
     "metadata": {},
     "outputs": [
      {
       "output_type": "stream",
       "stream": "stdout",
       "text": [
        "Franklin, Benjamin\n",
        "Harrington, Andrew\n"
       ]
      }
     ],
     "prompt_number": 15
    },
    {
     "cell_type": "code",
     "collapsed": false,
     "input": [],
     "language": "python",
     "metadata": {},
     "outputs": [],
     "prompt_number": 70
    },
    {
     "cell_type": "code",
     "collapsed": false,
     "input": [
      "\n",
      "\n",
      "alabama_all = merged_all_cancer[(merged_all_cancer.State == \"Alabama\") & (merged_all_cancer['Cancer Sites']=='Oral Cavity and Pharynx')]\n",
      "alaska_all = merged_all_cancer[(merged_all_cancer.State == \"Alaska\") & (merged_all_cancer['Cancer Sites']=='Oral Cavity and Pharynx')] \n",
      "\n",
      "\n",
      "s1 = merged_all_cancer[(merged_all_cancer.State == \"Kentucky\") & (merged_all_cancer['Cancer Sites'] == 'Oral Cavity and Pharynx')]\n",
      "s2 = merged_all_cancer[(merged_all_cancer.State == \"West Virginia\") & (merged_all_cancer['Cancer Sites'] == 'Oral Cavity and Pharynx')]\n",
      "s3 = merged_all_cancer[(merged_all_cancer.State == \"Maine\") & (merged_all_cancer['Cancer Sites'] == 'Oral Cavity and Pharynx')]\n",
      "s4 = merged_all_cancer[(merged_all_cancer.State == \"Florida\") & (merged_all_cancer['Cancer Sites'] == 'Oral Cavity and Pharynx')]\n",
      "plt.rc('figure', figsize=(10, 10)) #to set the global default figure size to be 10 x 10\n",
      "\n",
      "#fig = plt.figure()\n",
      "fig, axes = plt.subplots(2,2,sharex=True, sharey=True)\n",
      "ax1 = fig.add_subplot(2, 2, 1)\n",
      "#ax1.hist(alabama_all.Count)\n",
      "#ax1.scatter(alabama_all.Year, alabama_all.Count)\n",
      "#groups = merged_all_cancer.groupby(['State','Cancer Sites','Year']).sum()\n",
      "#groups.Count.plot(linewidth=3.0)\n",
      "\n",
      "\n",
      "ax2 = fig.add_subplot(2, 2, 2)\n",
      "#ax2.plot(alabama_all.Year, alabama_all.cancer_percent, color='r', linestyle='--', marker='o', label='alabama')\n",
      "#ax2.plot(alaska_all.Year, alaska_all.cancer_percent, color='g', linestyle='--', marker='o',label='alaska')\n",
      "#ax2.legend(loc='best')\n",
      "#ax2.set_title('Compare different states: Oral Cavity and Pharynx')\n",
      "#ax2.set_xlabel('Year')\n",
      "\n",
      "ax3 = fig.add_subplot(2, 2, 3)\n",
      "#ax3.plot(alaska_all.Year, alaska_all.Count, color='g', linestyle='--', marker='o',label='Alaska alcohol consumption')\n",
      "#ax3.legend(loc='best')\n",
      "\n",
      "ax4 = fig.add_subplot(2, 2, 4)\n",
      "ax4.scatter(s4.cancer_percent, s4.ethanol_per_capita_over14_gallons)\n",
      "ax4.legend(loc='best')\n",
      "\n"
     ],
     "language": "python",
     "metadata": {},
     "outputs": []
    }
   ],
   "metadata": {}
  }
 ]
}