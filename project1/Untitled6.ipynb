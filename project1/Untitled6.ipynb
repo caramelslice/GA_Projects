{
 "metadata": {
  "name": "",
  "signature": "sha256:61f1ff8e2390a23d2ea8e6a735079cf76dfb11a496ba13d63e20340ed4e259bb"
 },
 "nbformat": 3,
 "nbformat_minor": 0,
 "worksheets": [
  {
   "cells": [
    {
     "cell_type": "code",
     "collapsed": false,
     "input": [
      "%pylab inline\n",
      "import numpy as np\n",
      "import pandas as pd\n",
      "import seaborn as sns\n",
      "import matplotlib as mpl\n",
      "import matplotlib.pyplot as plt"
     ],
     "language": "python",
     "metadata": {},
     "outputs": [
      {
       "output_type": "stream",
       "stream": "stdout",
       "text": [
        "Populating the interactive namespace from numpy and matplotlib\n"
       ]
      }
     ],
     "prompt_number": 20
    },
    {
     "cell_type": "code",
     "collapsed": false,
     "input": [
      "survivors.head()"
     ],
     "language": "python",
     "metadata": {},
     "outputs": [
      {
       "html": [
        "<div style=\"max-height:1000px;max-width:1500px;overflow:auto;\">\n",
        "<table border=\"1\" class=\"dataframe\">\n",
        "  <thead>\n",
        "    <tr style=\"text-align: right;\">\n",
        "      <th></th>\n",
        "      <th>survived</th>\n",
        "      <th>pclass</th>\n",
        "      <th>sex</th>\n",
        "      <th>age</th>\n",
        "      <th>sibsp</th>\n",
        "      <th>parch</th>\n",
        "      <th>fare</th>\n",
        "      <th>embarked</th>\n",
        "      <th>class</th>\n",
        "      <th>who</th>\n",
        "      <th>adult_male</th>\n",
        "      <th>deck</th>\n",
        "      <th>embark_town</th>\n",
        "      <th>alive</th>\n",
        "      <th>alone</th>\n",
        "    </tr>\n",
        "  </thead>\n",
        "  <tbody>\n",
        "    <tr>\n",
        "      <th>1</th>\n",
        "      <td> 1</td>\n",
        "      <td> 1</td>\n",
        "      <td> female</td>\n",
        "      <td> 38</td>\n",
        "      <td> 1</td>\n",
        "      <td> 0</td>\n",
        "      <td> 71.2833</td>\n",
        "      <td> C</td>\n",
        "      <td>  First</td>\n",
        "      <td> woman</td>\n",
        "      <td> False</td>\n",
        "      <td>   C</td>\n",
        "      <td>   Cherbourg</td>\n",
        "      <td> yes</td>\n",
        "      <td> False</td>\n",
        "    </tr>\n",
        "    <tr>\n",
        "      <th>2</th>\n",
        "      <td> 1</td>\n",
        "      <td> 3</td>\n",
        "      <td> female</td>\n",
        "      <td> 26</td>\n",
        "      <td> 0</td>\n",
        "      <td> 0</td>\n",
        "      <td>  7.9250</td>\n",
        "      <td> S</td>\n",
        "      <td>  Third</td>\n",
        "      <td> woman</td>\n",
        "      <td> False</td>\n",
        "      <td> NaN</td>\n",
        "      <td> Southampton</td>\n",
        "      <td> yes</td>\n",
        "      <td>  True</td>\n",
        "    </tr>\n",
        "    <tr>\n",
        "      <th>3</th>\n",
        "      <td> 1</td>\n",
        "      <td> 1</td>\n",
        "      <td> female</td>\n",
        "      <td> 35</td>\n",
        "      <td> 1</td>\n",
        "      <td> 0</td>\n",
        "      <td> 53.1000</td>\n",
        "      <td> S</td>\n",
        "      <td>  First</td>\n",
        "      <td> woman</td>\n",
        "      <td> False</td>\n",
        "      <td>   C</td>\n",
        "      <td> Southampton</td>\n",
        "      <td> yes</td>\n",
        "      <td> False</td>\n",
        "    </tr>\n",
        "    <tr>\n",
        "      <th>8</th>\n",
        "      <td> 1</td>\n",
        "      <td> 3</td>\n",
        "      <td> female</td>\n",
        "      <td> 27</td>\n",
        "      <td> 0</td>\n",
        "      <td> 2</td>\n",
        "      <td> 11.1333</td>\n",
        "      <td> S</td>\n",
        "      <td>  Third</td>\n",
        "      <td> woman</td>\n",
        "      <td> False</td>\n",
        "      <td> NaN</td>\n",
        "      <td> Southampton</td>\n",
        "      <td> yes</td>\n",
        "      <td> False</td>\n",
        "    </tr>\n",
        "    <tr>\n",
        "      <th>9</th>\n",
        "      <td> 1</td>\n",
        "      <td> 2</td>\n",
        "      <td> female</td>\n",
        "      <td> 14</td>\n",
        "      <td> 1</td>\n",
        "      <td> 0</td>\n",
        "      <td> 30.0708</td>\n",
        "      <td> C</td>\n",
        "      <td> Second</td>\n",
        "      <td> child</td>\n",
        "      <td> False</td>\n",
        "      <td> NaN</td>\n",
        "      <td>   Cherbourg</td>\n",
        "      <td> yes</td>\n",
        "      <td> False</td>\n",
        "    </tr>\n",
        "  </tbody>\n",
        "</table>\n",
        "</div>"
       ],
       "metadata": {},
       "output_type": "pyout",
       "prompt_number": 12,
       "text": [
        "   survived  pclass     sex  age  sibsp  parch     fare embarked   class  \\\n",
        "1         1       1  female   38      1      0  71.2833        C   First   \n",
        "2         1       3  female   26      0      0   7.9250        S   Third   \n",
        "3         1       1  female   35      1      0  53.1000        S   First   \n",
        "8         1       3  female   27      0      2  11.1333        S   Third   \n",
        "9         1       2  female   14      1      0  30.0708        C  Second   \n",
        "\n",
        "     who adult_male deck  embark_town alive  alone  \n",
        "1  woman      False    C    Cherbourg   yes  False  \n",
        "2  woman      False  NaN  Southampton   yes   True  \n",
        "3  woman      False    C  Southampton   yes  False  \n",
        "8  woman      False  NaN  Southampton   yes  False  \n",
        "9  child      False  NaN    Cherbourg   yes  False  "
       ]
      }
     ],
     "prompt_number": 12
    },
    {
     "cell_type": "code",
     "collapsed": false,
     "input": [
      "gs = plt.GridSpec(14, 1)\n",
      "plt.subplot(gs[:13])\n"
     ],
     "language": "python",
     "metadata": {},
     "outputs": [
      {
       "metadata": {},
       "output_type": "pyout",
       "prompt_number": 16,
       "text": [
        "<matplotlib.axes._subplots.AxesSubplot at 0x10c3ebf50>"
       ]
      },
      {
       "metadata": {},
       "output_type": "display_data",
       "png": "[encoded data removed]",
       "text": [
        "<matplotlib.figure.Figure at 0x10bff4210>"
       ]
      }
     ],
     "prompt_number": 16
    },
    {
     "cell_type": "code",
     "collapsed": false,
     "input": [
      "titanic = sns.load_dataset(\"titanic\")\n",
      "survivors = titanic.query(\"alive == 'yes'\")\n",
      "gs = plt.GridSpec(3, 1)\n",
      "plt.subplot(gs[:2])\n",
      "ax1 = sns.pointplot(survivors[\"class\"], survivors[\"age\"], label=\"survivors\", color=\".3\")\n",
      "ax1.set(xticks=[], xlabel=\"\")\n",
      "plt.subplot(gs[-1])\n",
      "ax2 = sns.barplot(survivors[\"class\"], color=\".5\")\n",
      "ax1.set_xlim(ax2.get_xlim())\n",
      "sns.despine(left=True, bottom=True)"
     ],
     "language": "python",
     "metadata": {},
     "outputs": [
      {
       "metadata": {},
       "output_type": "display_data",
       "png": "[encoded data removed]",
       "text": [
        "<matplotlib.figure.Figure at 0x10cd8be10>"
       ]
      }
     ],
     "prompt_number": 22
    },
    {
     "cell_type": "code",
     "collapsed": false,
     "input": [],
     "language": "python",
     "metadata": {},
     "outputs": []
    }
   ],
   "metadata": {}
  }
 ]
}